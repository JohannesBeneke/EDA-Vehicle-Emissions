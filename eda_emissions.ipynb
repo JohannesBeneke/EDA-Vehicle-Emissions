{
 "cells": [
  {
   "cell_type": "markdown",
   "metadata": {},
   "source": [
    "# Explorative Data Analysis - CO2 Emissions\n",
    "\n",
    "## Objective\n",
    "In this notebook, the CO₂ emissions based on the fuel consumption of vehicles in Canada in 2020 are analyzed. The main objective is to identify features of vehicles that affect the amount of emissions the most. Other objectives are \n",
    "\n",
    "## Data\n",
    "The dataset used in this notebook is publisehd in: https://open.canada.ca/data/en/dataset/98f1a129-f628-4ce4-b24d-6f16bf24dd64#wb-auto-6\n",
    "\n",
    "\n",
    "## Steps\n",
    "The steps taken in this notebook:\n",
    "- [Step 1](#step_1)\n",
    "    : Importing Libraries and Dataset\n",
    "- [Step 2](#step_2)\n",
    "    : Dataset Informations + Data Quality\n",
    "- [Step 3](#step_3)\n",
    "    : Car Manufacturers\n",
    "- [Step 4](#step_4)\n",
    "    : Vehicle Classes"
   ]
  },
  {
   "cell_type": "markdown",
   "metadata": {},
   "source": [
    "## <a id=\"step_1\">Step 1: Importing Libraries and Dataset</a>"
   ]
  },
  {
   "cell_type": "code",
   "execution_count": 131,
   "metadata": {},
   "outputs": [],
   "source": [
    "# Importing libraries\n",
    "\n",
    "import pandas as pd\n",
    "import numpy as np\n",
    "import os\n",
    "import matplotlib.pyplot as plt\n",
    "import seaborn as sns\n",
    "import plotly.express as px\n",
    "import warnings\n",
    "warnings.simplefilter(action='ignore', category=FutureWarning)"
   ]
  },
  {
   "cell_type": "code",
   "execution_count": 132,
   "metadata": {},
   "outputs": [],
   "source": [
    "# nrows is set to 967, since the csv file includes a describtion of the columns below the actual table, making it necessary to specify nrows to only include the table \n",
    "df = pd.read_csv(os.path.join('Datasets','MY2020 Fuel Consumption Ratings.csv'), header=[0,1], nrows=967)"
   ]
  },
  {
   "cell_type": "markdown",
   "metadata": {},
   "source": [
    "## <a id=\"step_2\">Step 2: Dataset Informations  + Data Quality</a>"
   ]
  },
  {
   "cell_type": "markdown",
   "metadata": {},
   "source": [
    "The dataset contains the "
   ]
  },
  {
   "cell_type": "code",
   "execution_count": 133,
   "metadata": {},
   "outputs": [
    {
     "data": {
      "text/html": [
       "<div>\n",
       "<style scoped>\n",
       "    .dataframe tbody tr th:only-of-type {\n",
       "        vertical-align: middle;\n",
       "    }\n",
       "\n",
       "    .dataframe tbody tr th {\n",
       "        vertical-align: top;\n",
       "    }\n",
       "\n",
       "    .dataframe thead tr th {\n",
       "        text-align: left;\n",
       "    }\n",
       "</style>\n",
       "<table border=\"1\" class=\"dataframe\">\n",
       "  <thead>\n",
       "    <tr>\n",
       "      <th></th>\n",
       "      <th>Model</th>\n",
       "      <th>Make</th>\n",
       "      <th>Model</th>\n",
       "      <th>Vehicle Class</th>\n",
       "      <th>Engine Size</th>\n",
       "      <th>Cylinders</th>\n",
       "      <th>Transmission</th>\n",
       "      <th>Fuel</th>\n",
       "      <th>Fuel Consumption</th>\n",
       "      <th>Unnamed: 9_level_0</th>\n",
       "      <th>...</th>\n",
       "      <th>Unnamed: 211_level_0</th>\n",
       "      <th>Unnamed: 212_level_0</th>\n",
       "      <th>Unnamed: 213_level_0</th>\n",
       "      <th>Unnamed: 214_level_0</th>\n",
       "      <th>Unnamed: 215_level_0</th>\n",
       "      <th>Unnamed: 216_level_0</th>\n",
       "      <th>Unnamed: 217_level_0</th>\n",
       "      <th>Unnamed: 218_level_0</th>\n",
       "      <th>Unnamed: 219_level_0</th>\n",
       "      <th>Unnamed: 220_level_0</th>\n",
       "    </tr>\n",
       "    <tr>\n",
       "      <th></th>\n",
       "      <th>Year</th>\n",
       "      <th>Unnamed: 1_level_1</th>\n",
       "      <th>Unnamed: 2_level_1</th>\n",
       "      <th>Unnamed: 3_level_1</th>\n",
       "      <th>(L)</th>\n",
       "      <th>Unnamed: 5_level_1</th>\n",
       "      <th>Unnamed: 6_level_1</th>\n",
       "      <th>Type</th>\n",
       "      <th>City (L/100 km)</th>\n",
       "      <th>Hwy (L/100 km)</th>\n",
       "      <th>...</th>\n",
       "      <th>Unnamed: 211_level_1</th>\n",
       "      <th>Unnamed: 212_level_1</th>\n",
       "      <th>Unnamed: 213_level_1</th>\n",
       "      <th>Unnamed: 214_level_1</th>\n",
       "      <th>Unnamed: 215_level_1</th>\n",
       "      <th>Unnamed: 216_level_1</th>\n",
       "      <th>Unnamed: 217_level_1</th>\n",
       "      <th>Unnamed: 218_level_1</th>\n",
       "      <th>Unnamed: 219_level_1</th>\n",
       "      <th>Unnamed: 220_level_1</th>\n",
       "    </tr>\n",
       "  </thead>\n",
       "  <tbody>\n",
       "    <tr>\n",
       "      <th>0</th>\n",
       "      <td>2020</td>\n",
       "      <td>Acura</td>\n",
       "      <td>ILX</td>\n",
       "      <td>Compact</td>\n",
       "      <td>2.4</td>\n",
       "      <td>4</td>\n",
       "      <td>AM8</td>\n",
       "      <td>Z</td>\n",
       "      <td>9.9</td>\n",
       "      <td>7.0</td>\n",
       "      <td>...</td>\n",
       "      <td>NaN</td>\n",
       "      <td>NaN</td>\n",
       "      <td>NaN</td>\n",
       "      <td>NaN</td>\n",
       "      <td>NaN</td>\n",
       "      <td>NaN</td>\n",
       "      <td>NaN</td>\n",
       "      <td>NaN</td>\n",
       "      <td>NaN</td>\n",
       "      <td>NaN</td>\n",
       "    </tr>\n",
       "    <tr>\n",
       "      <th>1</th>\n",
       "      <td>2020</td>\n",
       "      <td>Acura</td>\n",
       "      <td>MDX SH-AWD</td>\n",
       "      <td>SUV: Small</td>\n",
       "      <td>3.5</td>\n",
       "      <td>6</td>\n",
       "      <td>AS9</td>\n",
       "      <td>Z</td>\n",
       "      <td>12.3</td>\n",
       "      <td>9.2</td>\n",
       "      <td>...</td>\n",
       "      <td>NaN</td>\n",
       "      <td>NaN</td>\n",
       "      <td>NaN</td>\n",
       "      <td>NaN</td>\n",
       "      <td>NaN</td>\n",
       "      <td>NaN</td>\n",
       "      <td>NaN</td>\n",
       "      <td>NaN</td>\n",
       "      <td>NaN</td>\n",
       "      <td>NaN</td>\n",
       "    </tr>\n",
       "    <tr>\n",
       "      <th>2</th>\n",
       "      <td>2020</td>\n",
       "      <td>Acura</td>\n",
       "      <td>MDX SH-AWD A-SPEC</td>\n",
       "      <td>SUV: Small</td>\n",
       "      <td>3.5</td>\n",
       "      <td>6</td>\n",
       "      <td>AS9</td>\n",
       "      <td>Z</td>\n",
       "      <td>12.2</td>\n",
       "      <td>9.5</td>\n",
       "      <td>...</td>\n",
       "      <td>NaN</td>\n",
       "      <td>NaN</td>\n",
       "      <td>NaN</td>\n",
       "      <td>NaN</td>\n",
       "      <td>NaN</td>\n",
       "      <td>NaN</td>\n",
       "      <td>NaN</td>\n",
       "      <td>NaN</td>\n",
       "      <td>NaN</td>\n",
       "      <td>NaN</td>\n",
       "    </tr>\n",
       "    <tr>\n",
       "      <th>3</th>\n",
       "      <td>2020</td>\n",
       "      <td>Acura</td>\n",
       "      <td>MDX Hybrid AWD</td>\n",
       "      <td>SUV: Small</td>\n",
       "      <td>3.0</td>\n",
       "      <td>6</td>\n",
       "      <td>AM7</td>\n",
       "      <td>Z</td>\n",
       "      <td>9.1</td>\n",
       "      <td>9.0</td>\n",
       "      <td>...</td>\n",
       "      <td>NaN</td>\n",
       "      <td>NaN</td>\n",
       "      <td>NaN</td>\n",
       "      <td>NaN</td>\n",
       "      <td>NaN</td>\n",
       "      <td>NaN</td>\n",
       "      <td>NaN</td>\n",
       "      <td>NaN</td>\n",
       "      <td>NaN</td>\n",
       "      <td>NaN</td>\n",
       "    </tr>\n",
       "    <tr>\n",
       "      <th>4</th>\n",
       "      <td>2020</td>\n",
       "      <td>Acura</td>\n",
       "      <td>RDX AWD</td>\n",
       "      <td>SUV: Small</td>\n",
       "      <td>2.0</td>\n",
       "      <td>4</td>\n",
       "      <td>AS10</td>\n",
       "      <td>Z</td>\n",
       "      <td>11.0</td>\n",
       "      <td>8.6</td>\n",
       "      <td>...</td>\n",
       "      <td>NaN</td>\n",
       "      <td>NaN</td>\n",
       "      <td>NaN</td>\n",
       "      <td>NaN</td>\n",
       "      <td>NaN</td>\n",
       "      <td>NaN</td>\n",
       "      <td>NaN</td>\n",
       "      <td>NaN</td>\n",
       "      <td>NaN</td>\n",
       "      <td>NaN</td>\n",
       "    </tr>\n",
       "  </tbody>\n",
       "</table>\n",
       "<p>5 rows × 221 columns</p>\n",
       "</div>"
      ],
      "text/plain": [
       "  Model               Make              Model      Vehicle Class Engine Size  \\\n",
       "   Year Unnamed: 1_level_1 Unnamed: 2_level_1 Unnamed: 3_level_1         (L)   \n",
       "0  2020              Acura                ILX            Compact         2.4   \n",
       "1  2020              Acura         MDX SH-AWD         SUV: Small         3.5   \n",
       "2  2020              Acura  MDX SH-AWD A-SPEC         SUV: Small         3.5   \n",
       "3  2020              Acura     MDX Hybrid AWD         SUV: Small         3.0   \n",
       "4  2020              Acura            RDX AWD         SUV: Small         2.0   \n",
       "\n",
       "           Cylinders       Transmission Fuel Fuel Consumption  \\\n",
       "  Unnamed: 5_level_1 Unnamed: 6_level_1 Type  City (L/100 km)   \n",
       "0                  4                AM8    Z              9.9   \n",
       "1                  6                AS9    Z             12.3   \n",
       "2                  6                AS9    Z             12.2   \n",
       "3                  6                AM7    Z              9.1   \n",
       "4                  4               AS10    Z             11.0   \n",
       "\n",
       "  Unnamed: 9_level_0  ... Unnamed: 211_level_0 Unnamed: 212_level_0  \\\n",
       "      Hwy (L/100 km)  ... Unnamed: 211_level_1 Unnamed: 212_level_1   \n",
       "0                7.0  ...                  NaN                  NaN   \n",
       "1                9.2  ...                  NaN                  NaN   \n",
       "2                9.5  ...                  NaN                  NaN   \n",
       "3                9.0  ...                  NaN                  NaN   \n",
       "4                8.6  ...                  NaN                  NaN   \n",
       "\n",
       "  Unnamed: 213_level_0 Unnamed: 214_level_0 Unnamed: 215_level_0  \\\n",
       "  Unnamed: 213_level_1 Unnamed: 214_level_1 Unnamed: 215_level_1   \n",
       "0                  NaN                  NaN                  NaN   \n",
       "1                  NaN                  NaN                  NaN   \n",
       "2                  NaN                  NaN                  NaN   \n",
       "3                  NaN                  NaN                  NaN   \n",
       "4                  NaN                  NaN                  NaN   \n",
       "\n",
       "  Unnamed: 216_level_0 Unnamed: 217_level_0 Unnamed: 218_level_0  \\\n",
       "  Unnamed: 216_level_1 Unnamed: 217_level_1 Unnamed: 218_level_1   \n",
       "0                  NaN                  NaN                  NaN   \n",
       "1                  NaN                  NaN                  NaN   \n",
       "2                  NaN                  NaN                  NaN   \n",
       "3                  NaN                  NaN                  NaN   \n",
       "4                  NaN                  NaN                  NaN   \n",
       "\n",
       "  Unnamed: 219_level_0 Unnamed: 220_level_0  \n",
       "  Unnamed: 219_level_1 Unnamed: 220_level_1  \n",
       "0                  NaN                  NaN  \n",
       "1                  NaN                  NaN  \n",
       "2                  NaN                  NaN  \n",
       "3                  NaN                  NaN  \n",
       "4                  NaN                  NaN  \n",
       "\n",
       "[5 rows x 221 columns]"
      ]
     },
     "execution_count": 133,
     "metadata": {},
     "output_type": "execute_result"
    }
   ],
   "source": [
    "df.head()"
   ]
  },
  {
   "cell_type": "markdown",
   "metadata": {},
   "source": [
    "The dataset contains a lot of completely empty columns, so at first, all columns that contain not a single value are dropped\n",
    "Further, the second row filled the headers with unnecessary information, which will be renamed"
   ]
  },
  {
   "cell_type": "code",
   "execution_count": 134,
   "metadata": {},
   "outputs": [
    {
     "data": {
      "text/html": [
       "<div>\n",
       "<style scoped>\n",
       "    .dataframe tbody tr th:only-of-type {\n",
       "        vertical-align: middle;\n",
       "    }\n",
       "\n",
       "    .dataframe tbody tr th {\n",
       "        vertical-align: top;\n",
       "    }\n",
       "\n",
       "    .dataframe thead tr th {\n",
       "        text-align: left;\n",
       "    }\n",
       "</style>\n",
       "<table border=\"1\" class=\"dataframe\">\n",
       "  <thead>\n",
       "    <tr>\n",
       "      <th></th>\n",
       "      <th>Model</th>\n",
       "      <th>Make</th>\n",
       "      <th>Model</th>\n",
       "      <th>Vehicle Class</th>\n",
       "      <th>Engine Size</th>\n",
       "      <th>Cylinders</th>\n",
       "      <th>Transmission</th>\n",
       "      <th>Fuel</th>\n",
       "      <th colspan=\"4\" halign=\"left\">Fuel Consumption</th>\n",
       "      <th>CO2 Emissions</th>\n",
       "      <th>CO2</th>\n",
       "      <th>Smog</th>\n",
       "    </tr>\n",
       "    <tr>\n",
       "      <th></th>\n",
       "      <th>Year</th>\n",
       "      <th></th>\n",
       "      <th></th>\n",
       "      <th></th>\n",
       "      <th>(L)</th>\n",
       "      <th></th>\n",
       "      <th></th>\n",
       "      <th>Type</th>\n",
       "      <th>City (L/100 km)</th>\n",
       "      <th>Hwy (L/100 km)</th>\n",
       "      <th>Comb (L/100 km)</th>\n",
       "      <th>Comb (mpg)</th>\n",
       "      <th>(g/km)</th>\n",
       "      <th>Rating</th>\n",
       "      <th>Rating</th>\n",
       "    </tr>\n",
       "  </thead>\n",
       "  <tbody>\n",
       "    <tr>\n",
       "      <th>0</th>\n",
       "      <td>2020</td>\n",
       "      <td>Acura</td>\n",
       "      <td>ILX</td>\n",
       "      <td>Compact</td>\n",
       "      <td>2.4</td>\n",
       "      <td>4</td>\n",
       "      <td>AM8</td>\n",
       "      <td>Z</td>\n",
       "      <td>9.9</td>\n",
       "      <td>7.0</td>\n",
       "      <td>8.6</td>\n",
       "      <td>33</td>\n",
       "      <td>199</td>\n",
       "      <td>6</td>\n",
       "      <td>3</td>\n",
       "    </tr>\n",
       "    <tr>\n",
       "      <th>1</th>\n",
       "      <td>2020</td>\n",
       "      <td>Acura</td>\n",
       "      <td>MDX SH-AWD</td>\n",
       "      <td>SUV: Small</td>\n",
       "      <td>3.5</td>\n",
       "      <td>6</td>\n",
       "      <td>AS9</td>\n",
       "      <td>Z</td>\n",
       "      <td>12.3</td>\n",
       "      <td>9.2</td>\n",
       "      <td>10.9</td>\n",
       "      <td>26</td>\n",
       "      <td>254</td>\n",
       "      <td>4</td>\n",
       "      <td>3</td>\n",
       "    </tr>\n",
       "    <tr>\n",
       "      <th>2</th>\n",
       "      <td>2020</td>\n",
       "      <td>Acura</td>\n",
       "      <td>MDX SH-AWD A-SPEC</td>\n",
       "      <td>SUV: Small</td>\n",
       "      <td>3.5</td>\n",
       "      <td>6</td>\n",
       "      <td>AS9</td>\n",
       "      <td>Z</td>\n",
       "      <td>12.2</td>\n",
       "      <td>9.5</td>\n",
       "      <td>11.0</td>\n",
       "      <td>26</td>\n",
       "      <td>258</td>\n",
       "      <td>4</td>\n",
       "      <td>3</td>\n",
       "    </tr>\n",
       "    <tr>\n",
       "      <th>3</th>\n",
       "      <td>2020</td>\n",
       "      <td>Acura</td>\n",
       "      <td>MDX Hybrid AWD</td>\n",
       "      <td>SUV: Small</td>\n",
       "      <td>3.0</td>\n",
       "      <td>6</td>\n",
       "      <td>AM7</td>\n",
       "      <td>Z</td>\n",
       "      <td>9.1</td>\n",
       "      <td>9.0</td>\n",
       "      <td>9.0</td>\n",
       "      <td>31</td>\n",
       "      <td>210</td>\n",
       "      <td>5</td>\n",
       "      <td>3</td>\n",
       "    </tr>\n",
       "    <tr>\n",
       "      <th>4</th>\n",
       "      <td>2020</td>\n",
       "      <td>Acura</td>\n",
       "      <td>RDX AWD</td>\n",
       "      <td>SUV: Small</td>\n",
       "      <td>2.0</td>\n",
       "      <td>4</td>\n",
       "      <td>AS10</td>\n",
       "      <td>Z</td>\n",
       "      <td>11.0</td>\n",
       "      <td>8.6</td>\n",
       "      <td>9.9</td>\n",
       "      <td>29</td>\n",
       "      <td>232</td>\n",
       "      <td>5</td>\n",
       "      <td>6</td>\n",
       "    </tr>\n",
       "  </tbody>\n",
       "</table>\n",
       "</div>"
      ],
      "text/plain": [
       "  Model   Make              Model Vehicle Class Engine Size Cylinders  \\\n",
       "   Year                                                 (L)             \n",
       "0  2020  Acura                ILX       Compact         2.4         4   \n",
       "1  2020  Acura         MDX SH-AWD    SUV: Small         3.5         6   \n",
       "2  2020  Acura  MDX SH-AWD A-SPEC    SUV: Small         3.5         6   \n",
       "3  2020  Acura     MDX Hybrid AWD    SUV: Small         3.0         6   \n",
       "4  2020  Acura            RDX AWD    SUV: Small         2.0         4   \n",
       "\n",
       "  Transmission Fuel Fuel Consumption                                 \\\n",
       "               Type  City (L/100 km) Hwy (L/100 km) Comb (L/100 km)   \n",
       "0          AM8    Z              9.9            7.0             8.6   \n",
       "1          AS9    Z             12.3            9.2            10.9   \n",
       "2          AS9    Z             12.2            9.5            11.0   \n",
       "3          AM7    Z              9.1            9.0             9.0   \n",
       "4         AS10    Z             11.0            8.6             9.9   \n",
       "\n",
       "             CO2 Emissions    CO2   Smog  \n",
       "  Comb (mpg)        (g/km) Rating Rating  \n",
       "0         33           199      6      3  \n",
       "1         26           254      4      3  \n",
       "2         26           258      4      3  \n",
       "3         31           210      5      3  \n",
       "4         29           232      5      6  "
      ]
     },
     "execution_count": 134,
     "metadata": {},
     "output_type": "execute_result"
    }
   ],
   "source": [
    "df = df.dropna(axis=1, how='all')\n",
    "\n",
    "cols_level0 = df.columns.get_level_values(level=0).str.replace('Unnamed.*','Fuel Consumption')\n",
    "cols_level1 = df.columns.get_level_values(level=1).str.replace('Unnamed.*','')\n",
    "df.columns = [cols_level0,cols_level1]\n",
    "df.head()"
   ]
  },
  {
   "cell_type": "code",
   "execution_count": 135,
   "metadata": {},
   "outputs": [],
   "source": [
    "# Flatten multiindex columns to simplify the analysis and avoid PerformanceWarnings\n",
    "df.columns = [' '.join(col).strip() for col in df.columns.values]"
   ]
  },
  {
   "cell_type": "code",
   "execution_count": 136,
   "metadata": {},
   "outputs": [
    {
     "name": "stdout",
     "output_type": "stream",
     "text": [
      "<class 'pandas.core.frame.DataFrame'>\n",
      "RangeIndex: 967 entries, 0 to 966\n",
      "Data columns (total 15 columns):\n",
      " #   Column                            Non-Null Count  Dtype  \n",
      "---  ------                            --------------  -----  \n",
      " 0   Model Year                        967 non-null    int64  \n",
      " 1   Make                              967 non-null    object \n",
      " 2   Model                             967 non-null    object \n",
      " 3   Vehicle Class                     967 non-null    object \n",
      " 4   Engine Size (L)                   967 non-null    float64\n",
      " 5   Cylinders                         967 non-null    int64  \n",
      " 6   Transmission                      967 non-null    object \n",
      " 7   Fuel Type                         967 non-null    object \n",
      " 8   Fuel Consumption City (L/100 km)  967 non-null    float64\n",
      " 9   Fuel Consumption Hwy (L/100 km)   967 non-null    float64\n",
      " 10  Fuel Consumption Comb (L/100 km)  967 non-null    float64\n",
      " 11  Fuel Consumption Comb (mpg)       967 non-null    int64  \n",
      " 12  CO2 Emissions (g/km)              967 non-null    int64  \n",
      " 13  CO2 Rating                        967 non-null    int64  \n",
      " 14  Smog Rating                       967 non-null    int64  \n",
      "dtypes: float64(4), int64(6), object(5)\n",
      "memory usage: 113.4+ KB\n"
     ]
    }
   ],
   "source": [
    "df.info()"
   ]
  },
  {
   "cell_type": "markdown",
   "metadata": {},
   "source": [
    "As can be seen in the info, the dataset not a single NaN value in the remaining columns. So there is no need to apply any imputation methods to get rid of the missing values.\n",
    "\n",
    "Further, the dataset contains 5 categorical columns that need to be encoded when training most machine learning algorithms. The remaining columns are containing integers and floats. The variables that are suitable for use as target variables when training an algorithm, such as CO₂ emissions or smog, are available as integers."
   ]
  },
  {
   "cell_type": "code",
   "execution_count": 137,
   "metadata": {},
   "outputs": [],
   "source": [
    "# df.describe()"
   ]
  },
  {
   "cell_type": "markdown",
   "metadata": {},
   "source": [
    "## <a id=\"step_3\">Step 3: Car Manufacturers</a>"
   ]
  },
  {
   "cell_type": "markdown",
   "metadata": {},
   "source": [
    "Which manufacturers are present in the dataset?"
   ]
  },
  {
   "cell_type": "code",
   "execution_count": 138,
   "metadata": {},
   "outputs": [
    {
     "data": {
      "text/plain": [
       "array(['Acura', 'Alfa Romeo', 'Aston Martin', 'Audi', 'Bentley', 'BMW',\n",
       "       'Bugatti', 'Buick', 'Cadillac', 'Chevrolet', 'Chrysler', 'Dodge',\n",
       "       'FIAT', 'Ford', 'Genesis', 'GMC', 'Honda', 'Hyundai', 'Infiniti',\n",
       "       'Jaguar', 'Jeep', 'Kia', 'Lamborghini', 'Land Rover', 'Lexus',\n",
       "       'Lincoln', 'Maserati', 'Mazda', 'Mercedes-Benz', 'MINI',\n",
       "       'Mitsubishi', 'Nissan', 'Porsche', 'Ram', 'Rolls-Royce', 'Subaru',\n",
       "       'Toyota', 'Volkswagen', 'Volvo'], dtype=object)"
      ]
     },
     "execution_count": 138,
     "metadata": {},
     "output_type": "execute_result"
    }
   ],
   "source": [
    "df['Make'].unique()"
   ]
  },
  {
   "cell_type": "markdown",
   "metadata": {},
   "source": [
    "Are there different amount of Models per manufacturer in the dataset? If so, which manufacturers are represented more/less often represented due to the amount of different vehicles included? "
   ]
  },
  {
   "cell_type": "code",
   "execution_count": 139,
   "metadata": {},
   "outputs": [
    {
     "data": {
      "text/plain": [
       "<AxesSubplot:xlabel='index', ylabel='Make'>"
      ]
     },
     "execution_count": 139,
     "metadata": {},
     "output_type": "execute_result"
    },
    {
     "data": {
      "image/png": "[encoded data removed]",
      "text/plain": [
       "<Figure size 1440x360 with 1 Axes>"
      ]
     },
     "metadata": {
      "needs_background": "light"
     },
     "output_type": "display_data"
    }
   ],
   "source": [
    "manufacturers_counts = df['Make'].value_counts().reset_index(drop=False)\n",
    "plt.figure(figsize=(20,5))\n",
    "plt.xticks(rotation=70)\n",
    "plt.grid()\n",
    "sns.barplot(data=manufacturers_counts, x=manufacturers_counts['index'], y=manufacturers_counts['Make'])"
   ]
  },
  {
   "cell_type": "markdown",
   "metadata": {},
   "source": [
    "#### Average CO2 emissions per manufacturer "
   ]
  },
  {
   "cell_type": "code",
   "execution_count": 146,
   "metadata": {},
   "outputs": [
    {
     "data": {
      "text/plain": [
       "<AxesSubplot:xlabel='Make', ylabel='CO2 Emissions (g/km)'>"
      ]
     },
     "execution_count": 146,
     "metadata": {},
     "output_type": "execute_result"
    },
    {
     "data": {
      "image/png": "[encoded data removed]",
      "text/plain": [
       "<Figure size 1440x360 with 1 Axes>"
      ]
     },
     "metadata": {
      "needs_background": "light"
     },
     "output_type": "display_data"
    }
   ],
   "source": [
    "manufacturers_CO2 = df.groupby('Make').mean()['CO2 Emissions (g/km)'].reset_index(drop=False).sort_values(by='CO2 Emissions (g/km)', ascending=False)\n",
    "plt.figure(figsize=(20,5))\n",
    "plt.xticks(rotation=70)\n",
    "plt.grid()\n",
    "sns.barplot(data=manufacturers_CO2, x=manufacturers_CO2['Make'], y=manufacturers_CO2['CO2 Emissions (g/km)'])\n"
   ]
  },
  {
   "cell_type": "code",
   "execution_count": null,
   "metadata": {},
   "outputs": [],
   "source": []
  },
  {
   "cell_type": "code",
   "execution_count": null,
   "metadata": {},
   "outputs": [],
   "source": []
  },
  {
   "cell_type": "markdown",
   "metadata": {},
   "source": [
    " ## <a id=\"step_4\">Step 4: Vehicle Classes</a>"
   ]
  },
  {
   "cell_type": "code",
   "execution_count": null,
   "metadata": {},
   "outputs": [],
   "source": []
  },
  {
   "cell_type": "code",
   "execution_count": null,
   "metadata": {},
   "outputs": [],
   "source": []
  },
  {
   "cell_type": "code",
   "execution_count": null,
   "metadata": {},
   "outputs": [],
   "source": []
  },
  {
   "cell_type": "code",
   "execution_count": null,
   "metadata": {},
   "outputs": [],
   "source": []
  },
  {
   "cell_type": "code",
   "execution_count": null,
   "metadata": {},
   "outputs": [],
   "source": []
  },
  {
   "cell_type": "code",
   "execution_count": null,
   "metadata": {},
   "outputs": [],
   "source": []
  },
  {
   "cell_type": "code",
   "execution_count": null,
   "metadata": {},
   "outputs": [],
   "source": []
  }
 ],
 "metadata": {
  "interpreter": {
   "hash": "61925dd458a16aac9254810265e343d0445b37f45013fb4af313a0d7b580b8c0"
  },
  "kernelspec": {
   "display_name": "Python 3.9.1 64-bit",
   "language": "python",
   "name": "python3"
  },
  "language_info": {
   "codemirror_mode": {
    "name": "ipython",
    "version": 3
   },
   "file_extension": ".py",
   "mimetype": "text/x-python",
   "name": "python",
   "nbconvert_exporter": "python",
   "pygments_lexer": "ipython3",
   "version": "3.9.1"
  },
  "orig_nbformat": 4
 },
 "nbformat": 4,
 "nbformat_minor": 2
}
